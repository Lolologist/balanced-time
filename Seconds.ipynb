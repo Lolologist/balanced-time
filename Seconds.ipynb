{
 "cells": [
  {
   "cell_type": "code",
   "execution_count": 3,
   "metadata": {},
   "outputs": [],
   "source": [
    "import astral\n",
    "import datetime\n",
    "import pytz\n",
    "from pytz import timezone\n",
    "import uszipcode\n",
    "from uszipcode import SearchEngine\n",
    "\n",
    "\n",
    "def convert_time_to_balanced_time(time=None, zipcode=10010, pretty_print=False):\n",
    "    #zipcodes to lat/long to astral's location\n",
    "    search = SearchEngine(simple_zipcode=True) # set simple_zipcode=False to use rich info database\n",
    "    zipcode_obj = search.by_zipcode(zipcode)\n",
    "    #the below won't work outside the US, need to reconcile uszipcode's timezone with atral's timezone\n",
    "    location = astral.Location(('name', 'region', zipcode_obj.lat, zipcode_obj.lng, \"US/\"+zipcode_obj.timezone, 0))\n",
    "    if time is None:\n",
    "        now = datetime.datetime.now()\n",
    "    else:\n",
    "        now = time\n",
    "        \n",
    "    timezone = pytz.timezone(location.timezone)\n",
    "    time = timezone.localize(now)\n",
    "    #print(time)\n",
    "    \n",
    "    beginning_of_today = datetime.datetime(time.year, time.month, time.day)\n",
    "    sun = location.sun(date=beginning_of_today, local=True)\n",
    "    #print(sun)\n",
    "    #print()\n",
    "    \n",
    "    beginning_of_yesterday = datetime.datetime(time.year, time.month, time.day-1)\n",
    "    sun_yesterday = location.sun(date=beginning_of_yesterday, local=True)\n",
    "    \n",
    "    try:\n",
    "        beginning_of_tomorrow = datetime.datetime(time.year, time.month, time.day+1)\n",
    "    except ValueError:\n",
    "        beginning_of_tomorrow = datetime.datetime(time.year, time.month+1, 1)\n",
    "    sun_tomorrow = location.sun(date=beginning_of_tomorrow, local=True)\n",
    "\n",
    "    six_am = datetime.datetime(time.year, time.month, time.day, 6)\n",
    "    six_pm = datetime.datetime(time.year, time.month, time.day, 18)\n",
    "\n",
    "    todays_seconds = sun['sunset'] - sun['sunrise']\n",
    "    #print(\"todays seconds: \"+str(todays_seconds.total_seconds())+\" or \"+str(todays_seconds)+\" hours.\")\n",
    "    \n",
    "    last_nights_seconds = sun['sunrise'] - sun_yesterday['sunset']\n",
    "    #print(\"last night's seconds: \"+str(last_nights_seconds.total_seconds())+\" or \"+str(last_nights_seconds)+\" hours.\")\n",
    "    \n",
    "    tonights_seconds = sun_tomorrow['sunrise'] - sun['sunset']\n",
    "    #print(\"tonight's seconds: \"+str(tonights_seconds.total_seconds())+\" or \"+str(tonights_seconds)+\" hours.\")\n",
    "    \n",
    "    seconds_from_time_to_next_sunrise = sun['sunrise'] - time #use sun, not sun_tomorrow, because pre-dawn is same day\n",
    "    #print(\"seconds_from_time_to_sunrise\"+str(seconds_from_time_to_next_sunrise.total_seconds()))\n",
    "    seconds_from_sunrise_to_time = time - sun['sunrise'] #same-day\n",
    "    #print(\"seconds_from_sunrise_to_time\"+str(seconds_from_sunrise_to_time.total_seconds()))\n",
    "    seconds_from_sunset_until_time = time - sun['sunset']  #same-day, at night after sunset\n",
    "    #print(\"seconds_from_sunset_to_time\"+str(seconds_from_sunset_until_time.total_seconds()))\n",
    "    \n",
    "    balanced_seconds = datetime.timedelta(seconds=12*60*60)\n",
    "    \n",
    "    multiplier_how_much_shorter_today_is = balanced_seconds / todays_seconds\n",
    "    #print(\"today's shortness multiplier, each second moves at x\"+str(multiplier_how_much_shorter_today_is))\n",
    "    \n",
    "    multiplier_how_much_longer_tonight_is = (balanced_seconds / tonights_seconds)\n",
    "    #print(\"tonight's multiplier: , each second moves at x\"+str(multiplier_how_much_longer_tonight_is))\n",
    "    \n",
    "    multiplier_how_much_longer_last_night_was = (balanced_seconds / last_nights_seconds)\n",
    "    #print(\"last night's multiplier: , each second moves at x\"+str(multiplier_how_much_longer_last_night_was))\n",
    "\n",
    "    if time >= sun['sunrise'] and time <= sun['sunset']:\n",
    "        seconds_to_add_to_six_am = seconds_from_sunrise_to_time.total_seconds()*multiplier_how_much_shorter_today_is\n",
    "        #print(\"seconds to add to today's 6 AM: \"+str(seconds_to_add_to_six_am)+\", or \"+str(seconds_to_add_to_six_am/60/60)+\" hours.\")\n",
    "        modified_time = six_am + datetime.timedelta(seconds=(seconds_to_add_to_six_am))\n",
    "\n",
    "    elif time < sun['sunrise']: \n",
    "        seconds_to_subtract_from_this_six_am = seconds_from_time_to_next_sunrise.total_seconds()*(multiplier_how_much_longer_last_night_was)\n",
    "        #print(\"seconds to subtract from this 6 am: \"+str(seconds_to_subtract_from_this_six_am)+\", or \"+str(seconds_to_subtract_from_this_six_am/60/60)+\" hours.\")\n",
    "        modified_time = six_am - datetime.timedelta(seconds=(seconds_to_subtract_from_this_six_am))\n",
    "        \n",
    "\n",
    "    elif time > sun['sunset']:        \n",
    "        seconds_to_add_to_tonights_six_pm = seconds_from_sunset_until_time.total_seconds()*multiplier_how_much_longer_tonight_is\n",
    "        #print(\"seconds to add to tonight's 6 PM: \"+str(seconds_to_add_to_tonights_six_pm)+\", or \"+str(seconds_to_add_to_tonights_six_pm/60/60)+\" hours.\")\n",
    "        modified_time = six_pm + datetime.timedelta(seconds=(seconds_to_add_to_tonights_six_pm))\n",
    "    if pretty_print == False:\n",
    "        return modified_time \n",
    "    else:\n",
    "        return modified_time.strftime(\"%I:%M:%S %p\")\n",
    "    \n",
    "    \n",
    "def clock_conversion(zipcode=10010):\n",
    "    search = SearchEngine(simple_zipcode=True) # set simple_zipcode=False to use rich info database\n",
    "    zipcode_obj = search.by_zipcode(zipcode)\n",
    "    today = datetime.datetime.utcnow()\n",
    "    print(\"balanced calendar for \"+zipcode_obj.post_office_city+\", \"+today.strftime(\"%Y/%m/%d\"))\n",
    "    print(\"  old   :  balanced\")\n",
    "    hour = 0\n",
    "    \n",
    "    while hour <= 23:\n",
    "        time_to_show = convert_time_to_balanced_time(time=datetime.datetime(today.year, today.month, today.day,hour,0,0), pretty_print=True, zipcode=zipcode)\n",
    "        if hour == 0:\n",
    "            print(\"12:00 AM = \"+time_to_show)\n",
    "        elif hour < 10:\n",
    "            print(str(hour)+\":00 AM  = \"+time_to_show)\n",
    "        elif hour < 12:\n",
    "            print(str(hour)+\":00 AM = \"+time_to_show)\n",
    "        elif hour == 12:\n",
    "            print(\"12:00 PM = \"+time_to_show)\n",
    "        elif hour < 22:\n",
    "            print(str(hour-12)+\":00 PM  = \"+time_to_show)\n",
    "        else:\n",
    "            print(str(hour-12)+\":00 PM = \"+time_to_show)\n",
    "        hour +=1    "
   ]
  },
  {
   "cell_type": "code",
   "execution_count": 6,
   "metadata": {},
   "outputs": [
    {
     "name": "stdout",
     "output_type": "stream",
     "text": [
      "balanced calendar for Austin, TX, 2019/08/31\n",
      "  old   :  balanced\n",
      "12:00 AM = 10:21:01 PM\n",
      "1:00 AM  = 11:25:34 PM\n",
      "2:00 AM  = 12:30:08 AM\n",
      "3:00 AM  = 01:34:41 AM\n",
      "4:00 AM  = 02:39:14 AM\n",
      "5:00 AM  = 03:43:47 AM\n",
      "6:00 AM  = 04:48:20 AM\n",
      "7:00 AM  = 05:52:53 AM\n",
      "8:00 AM  = 06:49:57 AM\n",
      "9:00 AM  = 07:46:05 AM\n",
      "10:00 AM = 08:42:13 AM\n",
      "11:00 AM = 09:38:21 AM\n",
      "12:00 PM = 10:34:29 AM\n",
      "1:00 PM  = 11:30:36 AM\n",
      "2:00 PM  = 12:26:44 PM\n",
      "3:00 PM  = 01:22:52 PM\n",
      "4:00 PM  = 02:19:00 PM\n",
      "5:00 PM  = 03:15:08 PM\n",
      "6:00 PM  = 04:11:16 PM\n",
      "7:00 PM  = 05:07:24 PM\n",
      "8:00 PM  = 06:04:03 PM\n",
      "9:00 PM  = 07:08:26 PM\n",
      "10:00 PM = 08:12:49 PM\n",
      "11:00 PM = 09:17:13 PM\n"
     ]
    }
   ],
   "source": [
    "clock_conversion(zipcode=4005)"
   ]
  },
  {
   "cell_type": "markdown",
   "metadata": {},
   "source": [
    "15th\n",
    "```'noon': datetime.datetime(2018, 11, 15, 11, 52, 50, tzinfo=<DstTzInfo 'US/Pacific' PST-1 day, 16:00:00 STD>), 'sunset': datetime.datetime(2018, 11, 15, 16, 57, 29, tzinfo=<DstTzInfo 'US/Pacific' PST-1 day, 16:00:00 STD>), 'sunrise': datetime.datetime(2018, 11, 15, 6, 48, 10, tzinfo=<DstTzInfo 'US/Pacific' PST-1 day, 16:00:00 STD>)}```\n",
    "\n",
    "16th\n",
    "```'noon': datetime.datetime(2018, 11, 16, 11, 53, tzinfo=<DstTzInfo 'US/Pacific' PST-1 day, 16:00:00 STD>), 'sunset': datetime.datetime(2018, 11, 16, 16, 56, 47, tzinfo=<DstTzInfo 'US/Pacific' PST-1 day, 16:00:00 STD>), 'sunrise': datetime.datetime(2018, 11, 16, 6, 49, 14, tzinfo=<DstTzInfo 'US/Pacific' PST-1 day, 16:00:00 STD>)}```\n"
   ]
  },
  {
   "cell_type": "code",
   "execution_count": 213,
   "metadata": {},
   "outputs": [],
   "source": [
    "from datetime import timedelta\n"
   ]
  },
  {
   "cell_type": "code",
   "execution_count": 7,
   "metadata": {},
   "outputs": [
    {
     "name": "stdout",
     "output_type": "stream",
     "text": [
      "05:02:44 AM\n"
     ]
    }
   ],
   "source": [
    "#???\n",
    "\n",
    "#6:00 AM real time\n",
    "print(convert_time_to_balanced_time(time=datetime.datetime(2019,12,22,6,0,0), pretty_print=True, zipcode=4005))"
   ]
  },
  {
   "cell_type": "code",
   "execution_count": 231,
   "metadata": {},
   "outputs": [
    {
     "data": {
      "text/plain": [
       "'05:59:51AM'"
      ]
     },
     "execution_count": 231,
     "metadata": {},
     "output_type": "execute_result"
    }
   ],
   "source": [
    "#YES\n",
    "\n",
    "#ten seconds before real sunrise, should be subtracting around 9 seconds\n",
    "convert_time_to_balanced_time(time=datetime.datetime(2018,11,16,6,48,46), pretty_print=True, zipcode=94546)"
   ]
  },
  {
   "cell_type": "code",
   "execution_count": 232,
   "metadata": {},
   "outputs": [
    {
     "data": {
      "text/plain": [
       "'06:00:00AM'"
      ]
     },
     "execution_count": 232,
     "metadata": {},
     "output_type": "execute_result"
    }
   ],
   "source": [
    "#YES\n",
    "\n",
    "#sunrise\n",
    "convert_time_to_balanced_time(time=datetime.datetime(2018,11,16,6,48,56), pretty_print=True, zipcode=94546)"
   ]
  },
  {
   "cell_type": "code",
   "execution_count": 233,
   "metadata": {},
   "outputs": [
    {
     "data": {
      "text/plain": [
       "'12:00:00PM'"
      ]
     },
     "execution_count": 233,
     "metadata": {},
     "output_type": "execute_result"
    }
   ],
   "source": [
    "#YES\n",
    "\n",
    "#'solar noon' should output 12:00\n",
    "#time that 11/15 11:52:57 should read: 12 PM\n",
    "convert_time_to_balanced_time(time=datetime.datetime(2018,11,15,11,52,47), zipcode=94546,pretty_print=True)"
   ]
  },
  {
   "cell_type": "code",
   "execution_count": 234,
   "metadata": {},
   "outputs": [
    {
     "data": {
      "text/plain": [
       "'12:08:31PM'"
      ]
     },
     "execution_count": 234,
     "metadata": {},
     "output_type": "execute_result"
    }
   ],
   "source": [
    "#YES\n",
    "\n",
    "#12:00PM, not noon\n",
    "#time that 12:00 should read is 12:08:31\n",
    "convert_time_to_balanced_time(time=datetime.datetime(2018,11,15,12,0,0), zipcode=94546,pretty_print=True)"
   ]
  },
  {
   "cell_type": "code",
   "execution_count": 235,
   "metadata": {},
   "outputs": [
    {
     "data": {
      "text/plain": [
       "'05:59:58PM'"
      ]
     },
     "execution_count": 235,
     "metadata": {},
     "output_type": "execute_result"
    }
   ],
   "source": [
    "#just before sunset\n",
    "#sunrise to sunset is 6:48:56 on the 15th to 16:57:47 on the 15th\n",
    "convert_time_to_balanced_time(time=datetime.datetime(2018,11,15,16,57,41), zipcode=94546,pretty_print=True)"
   ]
  },
  {
   "cell_type": "code",
   "execution_count": 236,
   "metadata": {},
   "outputs": [
    {
     "data": {
      "text/plain": [
       "'06:00:00PM'"
      ]
     },
     "execution_count": 236,
     "metadata": {},
     "output_type": "execute_result"
    }
   ],
   "source": [
    "#CORRECT\n",
    "\n",
    "#sunset\n",
    "#sunrise to sunset is 6:48:56 on the 15th to 16:57:47 on the 15th\n",
    "convert_time_to_balanced_time(time=datetime.datetime(2018,11,15,16,57,42), zipcode=94546,pretty_print=True)"
   ]
  },
  {
   "cell_type": "code",
   "execution_count": 237,
   "metadata": {},
   "outputs": [
    {
     "data": {
      "text/plain": [
       "'06:00:08PM'"
      ]
     },
     "execution_count": 237,
     "metadata": {},
     "output_type": "execute_result"
    }
   ],
   "source": [
    "#10 seconds after sunset - should be 8.2 seconds added or so\n",
    "convert_time_to_balanced_time(time=datetime.datetime(2018,11,15,16,57,52), zipcode=94546,pretty_print=True)"
   ]
  },
  {
   "cell_type": "code",
   "execution_count": 242,
   "metadata": {},
   "outputs": [
    {
     "data": {
      "text/plain": [
       "'09:29:52PM'"
      ]
     },
     "execution_count": 242,
     "metadata": {},
     "output_type": "execute_result"
    }
   ],
   "source": [
    "#9PM\n",
    "convert_time_to_balanced_time(time=datetime.datetime(2018,11,15,21,0,0), zipcode=94546,pretty_print=True)\n",
    "#USE TIMEDELTA TO DETERMINE NUMBER OF SECONDS, ETC"
   ]
  },
  {
   "cell_type": "code",
   "execution_count": 238,
   "metadata": {},
   "outputs": [
    {
     "data": {
      "text/plain": [
       "'12:00:00AM'"
      ]
     },
     "execution_count": 238,
     "metadata": {},
     "output_type": "execute_result"
    }
   ],
   "source": [
    "#'midnight'\n",
    "convert_time_to_balanced_time(time=datetime.datetime(2018,11,15,23,53,19), zipcode=94546,pretty_print=True)\n",
    "#USE TIMEDELTA TO DETERMINE NUMBER OF SECONDS, ETC"
   ]
  },
  {
   "cell_type": "code",
   "execution_count": 239,
   "metadata": {},
   "outputs": [
    {
     "data": {
      "text/plain": [
       "'12:05:46AM'"
      ]
     },
     "execution_count": 239,
     "metadata": {},
     "output_type": "execute_result"
    }
   ],
   "source": [
    "#just before real midnight\n",
    "convert_time_to_balanced_time(time=datetime.datetime(2018,11,15,23,59,59), zipcode=94546,pretty_print=True)\n",
    "#need to calculate by hand what time should be"
   ]
  },
  {
   "cell_type": "code",
   "execution_count": 240,
   "metadata": {},
   "outputs": [
    {
     "data": {
      "text/plain": [
       "'12:05:47AM'"
      ]
     },
     "execution_count": 240,
     "metadata": {},
     "output_type": "execute_result"
    }
   ],
   "source": [
    "#just at real midnight\n",
    "#time should read XXX\n",
    "convert_time_to_balanced_time(time=datetime.datetime(2018,11,16,0,0,0), pretty_print=True, zipcode=94546)"
   ]
  },
  {
   "cell_type": "code",
   "execution_count": 241,
   "metadata": {},
   "outputs": [
    {
     "data": {
      "text/plain": [
       "'12:05:56AM'"
      ]
     },
     "execution_count": 241,
     "metadata": {},
     "output_type": "execute_result"
    }
   ],
   "source": [
    "#just after real midnight\n",
    "#time should read XXX\n",
    "convert_time_to_balanced_time(time=datetime.datetime(2018,11,16,0,0,10), pretty_print=True, zipcode=94546)"
   ]
  },
  {
   "cell_type": "code",
   "execution_count": 225,
   "metadata": {},
   "outputs": [
    {
     "data": {
      "text/plain": [
       "datetime.timedelta(0, 24536)"
      ]
     },
     "execution_count": 225,
     "metadata": {},
     "output_type": "execute_result"
    }
   ],
   "source": [
    "#math dump\n",
    "timedelta(hours=6,minutes=48, seconds=56) + timedelta(hours=0,minutes=0, seconds=0)"
   ]
  },
  {
   "cell_type": "code",
   "execution_count": 201,
   "metadata": {},
   "outputs": [
    {
     "data": {
      "text/plain": [
       "26580.0"
      ]
     },
     "execution_count": 201,
     "metadata": {},
     "output_type": "execute_result"
    }
   ],
   "source": [
    "7.38333333333333333*60*60"
   ]
  },
  {
   "cell_type": "code",
   "execution_count": 20,
   "metadata": {},
   "outputs": [
    {
     "data": {
      "text/plain": [
       "datetime.timedelta(0, 20036)"
      ]
     },
     "execution_count": 20,
     "metadata": {},
     "output_type": "execute_result"
    }
   ],
   "source": [
    "from datetime import timedelta\n",
    "timedelta(hours=6,minutes=48, seconds=56) - timedelta(hours=1,minutes=15, seconds=0)"
   ]
  }
 ],
 "metadata": {
  "kernelspec": {
   "display_name": "Python 3",
   "language": "python",
   "name": "python3"
  },
  "language_info": {
   "codemirror_mode": {
    "name": "ipython",
    "version": 3
   },
   "file_extension": ".py",
   "mimetype": "text/x-python",
   "name": "python",
   "nbconvert_exporter": "python",
   "pygments_lexer": "ipython3",
   "version": "3.5.2"
  }
 },
 "nbformat": 4,
 "nbformat_minor": 2
}
